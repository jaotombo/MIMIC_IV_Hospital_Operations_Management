{
 "cells": [
  {
   "cell_type": "markdown",
   "metadata": {},
   "source": [
    "# Data Cleaning"
   ]
  },
  {
   "cell_type": "markdown",
   "metadata": {},
   "source": [
    "## Setup"
   ]
  },
  {
   "cell_type": "code",
   "execution_count": 1,
   "metadata": {},
   "outputs": [],
   "source": [
    "# Import useful libraries\n",
    "import numpy as np\n",
    "import pandas as pd\n",
    "import os\n",
    "import re\n",
    "import pickle\n",
    "import sys\n",
    "import time"
   ]
  },
  {
   "cell_type": "code",
   "execution_count": 2,
   "metadata": {},
   "outputs": [],
   "source": [
    "pd.set_option('display.max_rows', None)  ###\n",
    "pd.set_option('display.max_columns', None)  ###\n",
    "pd.set_option('display.width', None)  ###\n",
    "pd.set_option('display.max_colwidth', None)  ###"
   ]
  },
  {
   "cell_type": "code",
   "execution_count": null,
   "metadata": {},
   "outputs": [],
   "source": [
    "# # Setup Repository\n",
    "# with open(\"repo_info.txt\", \"r\") as repo_info:\n",
    "#     path_to_repo = repo_info.readline()\n",
    "\n",
    "# path_to_data = f\"{path_to_repo}data/\"\n",
    "# path_to_raw = f\"{path_to_data}raw/\"\n",
    "# path_to_processed = f\"{path_to_data}processed/\"\n",
    "# path_to_icd = f\"{path_to_data}icd_codes/\""
   ]
  },
  {
   "cell_type": "markdown",
   "metadata": {},
   "source": [
    "## Import Data"
   ]
  },
  {
   "cell_type": "code",
   "execution_count": 3,
   "metadata": {},
   "outputs": [],
   "source": [
    "path_to_processed= 'processed_data'\n",
    "raw_df = pd.read_csv(f\"{path_to_processed}/df_mixed.csv.gzip\", compression = 'gzip', low_memory=False)"
   ]
  },
  {
   "cell_type": "code",
   "execution_count": 4,
   "metadata": {},
   "outputs": [],
   "source": [
    "# Convert the columns to datetime values\n",
    "raw_df['dischtime'] = pd.to_datetime(raw_df['dischtime'])\n",
    "raw_df['admittime'] = pd.to_datetime(raw_df['admittime'])"
   ]
  },
  {
   "cell_type": "code",
   "execution_count": 5,
   "metadata": {},
   "outputs": [],
   "source": [
    "# Calculate LOS\n",
    "raw_df['los'] = raw_df.dischtime - raw_df.admittime"
   ]
  },
  {
   "cell_type": "code",
   "execution_count": 6,
   "metadata": {},
   "outputs": [
    {
     "data": {
      "text/plain": [
       "Index(['hadm_id', 'subject_id', 'admittime', 'dischtime', 'deathtime', 'race',\n",
       "       'admission_type', 'admission_location', 'insurance', 'language',\n",
       "       'marital_status', 'discharge_location', 'first_careunit',\n",
       "       'last_careunit', 'icu_los', 'prev_service', 'curr_service', 'gender',\n",
       "       'age', 'urea_n_min', 'urea_n_max', 'urea_n_mean', 'platelets_min',\n",
       "       'platelets_max', 'platelets_mean', 'magnesium_max', 'albumin_min',\n",
       "       'calcium_min', 'resprate_min', 'resprate_max', 'resprate_mean',\n",
       "       'glucose_min', 'glucose_max', 'glucose_mean', 'hr_min', 'hr_max',\n",
       "       'hr_mean', 'sysbp_min', 'sysbp_max', 'sysbp_mean', 'diasbp_min',\n",
       "       'diasbp_max', 'diasbp_mean', 'temp_min', 'temp_max', 'temp_mean',\n",
       "       'sapsii', 'sofa_24hours', 'urine_min', 'urine_mean', 'urine_max',\n",
       "       'charlson_comorbidity_index', 'patientweight', 'icd_code', 'proc_icd',\n",
       "       'diag_icd', 'age_cat', 'type_stay', 'prev_adm', 'dest_discharge',\n",
       "       'emergency_dpt', 'icd_chapter', 'origin_patient', 'discharge_text',\n",
       "       'radiology_text', 'los'],\n",
       "      dtype='object')"
      ]
     },
     "execution_count": 6,
     "metadata": {},
     "output_type": "execute_result"
    }
   ],
   "source": [
    "raw_df.columns"
   ]
  },
  {
   "cell_type": "code",
   "execution_count": 29,
   "metadata": {},
   "outputs": [],
   "source": [
    "# Keep only relevant columns\n",
    "df = raw_df[['hadm_id', 'subject_id', 'race', 'admission_type',\n",
    "             'admission_location', 'insurance', 'language', 'marital_status', 'discharge_location',\n",
    "             'icu_los','gender', 'age','urea_n_min', 'urea_n_max', 'urea_n_mean','platelets_min', \n",
    "             'platelets_max', 'platelets_mean', 'magnesium_max','albumin_min', 'calcium_min', \n",
    "             'resprate_min', 'resprate_max','resprate_mean', 'glucose_min', 'glucose_max', \n",
    "             'glucose_mean', 'hr_min','hr_max', 'hr_mean', 'sysbp_min', 'sysbp_max', 'sysbp_mean',\n",
    "             'diasbp_min', 'diasbp_max', 'diasbp_mean', 'temp_min', 'temp_max','temp_mean', 'sapsii', \n",
    "             'sofa_24hours', 'urine_min', 'urine_mean', 'urine_max', 'patientweight',\n",
    "             'age_cat','type_stay', 'prev_adm', 'dest_discharge', 'emergency_dpt', 'icd_chapter', \n",
    "             'origin_patient', 'los', 'discharge_text','radiology_text']]"
   ]
  },
  {
   "cell_type": "markdown",
   "metadata": {},
   "source": [
    "## Explore and clean categorical variables"
   ]
  },
  {
   "cell_type": "code",
   "execution_count": 30,
   "metadata": {},
   "outputs": [],
   "source": [
    "# Keep only categorical variables\n",
    "var_cat = df.columns[df.dtypes == \"object\"]\n",
    "df_cat = df[var_cat]"
   ]
  },
  {
   "cell_type": "code",
   "execution_count": 31,
   "metadata": {},
   "outputs": [
    {
     "data": {
      "text/plain": [
       "race                     33\n",
       "admission_type            9\n",
       "admission_location       11\n",
       "insurance                 3\n",
       "language                  2\n",
       "marital_status            4\n",
       "discharge_location       13\n",
       "gender                    2\n",
       "type_stay                 3\n",
       "prev_adm                  3\n",
       "dest_discharge            2\n",
       "emergency_dpt             2\n",
       "origin_patient            1\n",
       "discharge_text        42673\n",
       "radiology_text        41656\n",
       "dtype: int64"
      ]
     },
     "execution_count": 31,
     "metadata": {},
     "output_type": "execute_result"
    }
   ],
   "source": [
    "# Check how many modalities each variable has\n",
    "df_cat.nunique()"
   ]
  },
  {
   "cell_type": "code",
   "execution_count": 1,
   "metadata": {},
   "outputs": [],
   "source": [
    "# Check the categories present in each variable\n",
    "for col in var_cat:\n",
    "    print(df_cat[col].value_counts(), '\\n')"
   ]
  },
  {
   "cell_type": "code",
   "execution_count": 33,
   "metadata": {},
   "outputs": [],
   "source": [
    "# Harmonize the ETHNICITY column\n",
    "df.loc[df['race'].str.contains('WHITE', case=False), 'race'] = 'white'\n",
    "df.loc[df['race'].str.contains('BLACK', case=False), 'race'] = 'black'\n",
    "df.loc[df['race'].str.contains('ASIAN', case=False), 'race'] = 'asian'\n",
    "df.loc[df['race'].str.contains('HISPANIC|PORTUGUESE|SOUTH AMERICAN', case=False), 'race'] = 'hispanic'\n",
    "df.loc[df['race'].str.contains('UNABLE TO OBTAIN|PATIENT DECLINED TO ANSWER|UNKNOWN/NOT SPECIFIED', case=False), 'race'] = 'unknown'\n",
    "df.loc[~df['race'].str.contains('white|black|asian|hispanic|unknown', case=False), 'race'] = 'other'"
   ]
  },
  {
   "cell_type": "code",
   "execution_count": 34,
   "metadata": {},
   "outputs": [
    {
     "data": {
      "text/plain": [
       "white       29743\n",
       "black        4076\n",
       "UNKNOWN      3788\n",
       "hispanic     1771\n",
       "other        1602\n",
       "asian        1167\n",
       "unknown       864\n",
       "Name: race, dtype: int64"
      ]
     },
     "execution_count": 34,
     "metadata": {},
     "output_type": "execute_result"
    }
   ],
   "source": [
    "# Check now what we have as categories\n",
    "df['race'].value_counts()"
   ]
  },
  {
   "cell_type": "code",
   "execution_count": 35,
   "metadata": {},
   "outputs": [],
   "source": [
    "# Harmonize the discharge location column\n",
    "df.loc[df['discharge_location'].str.contains('home|LEFT AGAINST MEDICAL ADVI', case=False, na=False), 'dest_discharge'] = 'home'\n",
    "df.loc[~df['discharge_location'].str.contains('home|LEFT AGAINST MEDICAL ADVI', case=False, na=False), 'dest_discharge'] = 'other'"
   ]
  },
  {
   "cell_type": "code",
   "execution_count": 36,
   "metadata": {},
   "outputs": [
    {
     "name": "stderr",
     "output_type": "stream",
     "text": [
      "C:\\Users\\14297\\AppData\\Local\\Temp\\ipykernel_5872\\449948772.py:2: SettingWithCopyWarning: \n",
      "A value is trying to be set on a copy of a slice from a DataFrame\n",
      "\n",
      "See the caveats in the documentation: https://pandas.pydata.org/pandas-docs/stable/user_guide/indexing.html#returning-a-view-versus-a-copy\n",
      "  df.drop(columns=['discharge_location'], inplace = True)\n"
     ]
    }
   ],
   "source": [
    "# Drop columns we will not need\n",
    "df.drop(columns=['discharge_location'], inplace = True)"
   ]
  },
  {
   "cell_type": "code",
   "execution_count": 37,
   "metadata": {},
   "outputs": [
    {
     "name": "stderr",
     "output_type": "stream",
     "text": [
      "C:\\Users\\14297\\AppData\\Local\\Temp\\ipykernel_5872\\1454212122.py:2: SettingWithCopyWarning: \n",
      "A value is trying to be set on a copy of a slice from a DataFrame\n",
      "\n",
      "See the caveats in the documentation: https://pandas.pydata.org/pandas-docs/stable/user_guide/indexing.html#returning-a-view-versus-a-copy\n",
      "  df['marital_status'].fillna('unknown', inplace=True)\n"
     ]
    }
   ],
   "source": [
    "# Harmonize the marital status column\n",
    "df['marital_status'].fillna('unknown', inplace=True)\n",
    "df.loc[df['marital_status'].str.contains('MARRIED|LIFE PARTNER', case=False, na='unknown'),'marital_status'] = 'couple'\n",
    "df.loc[df['marital_status'].str.contains('DIVORCED|SEPARATED', case=False), 'marital_status'] = 'separated'\n",
    "df.loc[df['marital_status'].str.contains('SINGLE', case=False), 'marital_status'] = 'single'\n",
    "df.loc[df['marital_status'].str.contains('WIDOWED', case=False), 'marital_status'] = 'widowed'\n",
    "df.loc[df['marital_status'].str.contains('unknown', case=False), 'marital_status'] = 'unknown'"
   ]
  },
  {
   "cell_type": "code",
   "execution_count": 38,
   "metadata": {},
   "outputs": [
    {
     "data": {
      "text/plain": [
       "couple       19785\n",
       "single       11672\n",
       "widowed       5440\n",
       "separated     3174\n",
       "unknown       2940\n",
       "Name: marital_status, dtype: int64"
      ]
     },
     "execution_count": 38,
     "metadata": {},
     "output_type": "execute_result"
    }
   ],
   "source": [
    "# And check now the results\n",
    "df['marital_status'].value_counts()"
   ]
  },
  {
   "cell_type": "code",
   "execution_count": 39,
   "metadata": {},
   "outputs": [
    {
     "name": "stderr",
     "output_type": "stream",
     "text": [
      "C:\\Users\\14297\\AppData\\Local\\Temp\\ipykernel_5872\\1564653906.py:2: SettingWithCopyWarning: \n",
      "A value is trying to be set on a copy of a slice from a DataFrame\n",
      "\n",
      "See the caveats in the documentation: https://pandas.pydata.org/pandas-docs/stable/user_guide/indexing.html#returning-a-view-versus-a-copy\n",
      "  df['language'].fillna('unknown', inplace=True)\n",
      "C:\\Users\\14297\\AppData\\Local\\Temp\\ipykernel_5872\\1564653906.py:5: SettingWithCopyWarning: \n",
      "A value is trying to be set on a copy of a slice from a DataFrame.\n",
      "Try using .loc[row_indexer,col_indexer] = value instead\n",
      "\n",
      "See the caveats in the documentation: https://pandas.pydata.org/pandas-docs/stable/user_guide/indexing.html#returning-a-view-versus-a-copy\n",
      "  df.language = df.language.str.lower()\n"
     ]
    }
   ],
   "source": [
    "# Harmonize the religion column\n",
    "df['language'].fillna('unknown', inplace=True)\n",
    "df.loc[df['language'].str.contains('ENGLISH', case=False), 'language'] = 'English'\n",
    "df.loc[~df['language'].str.contains('ENGLISH', case=False), 'language'] = 'Other'\n",
    "df.language = df.language.str.lower()"
   ]
  },
  {
   "cell_type": "code",
   "execution_count": 40,
   "metadata": {},
   "outputs": [
    {
     "data": {
      "text/plain": [
       "english    38644\n",
       "other       4367\n",
       "Name: language, dtype: int64"
      ]
     },
     "execution_count": 40,
     "metadata": {},
     "output_type": "execute_result"
    }
   ],
   "source": [
    "# And check now the results\n",
    "df['language'].value_counts()"
   ]
  },
  {
   "cell_type": "code",
   "execution_count": 44,
   "metadata": {},
   "outputs": [
    {
     "name": "stderr",
     "output_type": "stream",
     "text": [
      "C:\\Users\\14297\\AppData\\Local\\Temp\\ipykernel_5872\\1350176265.py:5: SettingWithCopyWarning: \n",
      "A value is trying to be set on a copy of a slice from a DataFrame\n",
      "\n",
      "See the caveats in the documentation: https://pandas.pydata.org/pandas-docs/stable/user_guide/indexing.html#returning-a-view-versus-a-copy\n",
      "  df['admission_type'].fillna('Other', inplace=True)\n"
     ]
    }
   ],
   "source": [
    "# Harmonize the admission type column\n",
    "df.loc[df['admission_type'].str.contains('EMERGENCY ROOM|URGENT|EW EMER\\.', case=False), 'admission_type'] = 'emergency'\n",
    "df.loc[df['admission_type'].str.contains('PHYSICIAN REFERRAL|CLINIC REFERRAL|OBSERVATION ADMIT|AMBULATORY SURGERY TRANSFER', case=False), 'admission_type'] = 'physician referral'\n",
    "df.loc[df['admission_type'].str.contains('TRANSFER FROM SKILLED NURSING FACILITY|PACU|TRANSFER FROM HOSPITAL|INTERNAL TRANSFER TO OR FROM PSYCH|PROCEDURE SITE', case=False), 'admission_type'] = 'transfer from facility'\n",
    "df.loc[df['admission_type'].str.contains('WALK-IN/SELF REFERRAL', case=False), 'admission_type'] = 'self-admission'\n",
    "df['admission_type'].fillna('Other', inplace=True)"
   ]
  },
  {
   "cell_type": "code",
   "execution_count": 45,
   "metadata": {},
   "outputs": [
    {
     "data": {
      "text/plain": [
       "emergency                 20146\n",
       "physician referral        12216\n",
       "transfer from facility    10076\n",
       "self-admission              573\n",
       "Name: admission_type, dtype: int64"
      ]
     },
     "execution_count": 45,
     "metadata": {},
     "output_type": "execute_result"
    }
   ],
   "source": [
    "# And check now the results\n",
    "df['admission_type'].value_counts()"
   ]
  },
  {
   "cell_type": "code",
   "execution_count": 46,
   "metadata": {},
   "outputs": [
    {
     "name": "stdout",
     "output_type": "stream",
     "text": [
      "<class 'pandas.core.frame.DataFrame'>\n",
      "RangeIndex: 43011 entries, 0 to 43010\n",
      "Data columns (total 54 columns):\n",
      " #   Column              Non-Null Count  Dtype          \n",
      "---  ------              --------------  -----          \n",
      " 0   hadm_id             43011 non-null  int64          \n",
      " 1   subject_id          43011 non-null  int64          \n",
      " 2   race                43011 non-null  object         \n",
      " 3   admission_type      43011 non-null  object         \n",
      " 4   admission_location  43011 non-null  object         \n",
      " 5   insurance           43011 non-null  object         \n",
      " 6   language            43011 non-null  object         \n",
      " 7   marital_status      43011 non-null  object         \n",
      " 8   icu_los             43011 non-null  float64        \n",
      " 9   gender              43011 non-null  object         \n",
      " 10  age                 43011 non-null  int64          \n",
      " 11  urea_n_min          42940 non-null  float64        \n",
      " 12  urea_n_max          42940 non-null  float64        \n",
      " 13  urea_n_mean         42940 non-null  float64        \n",
      " 14  platelets_min       42933 non-null  float64        \n",
      " 15  platelets_max       42933 non-null  float64        \n",
      " 16  platelets_mean      42933 non-null  float64        \n",
      " 17  magnesium_max       42854 non-null  float64        \n",
      " 18  albumin_min         23401 non-null  float64        \n",
      " 19  calcium_min         41872 non-null  float64        \n",
      " 20  resprate_min        42995 non-null  float64        \n",
      " 21  resprate_max        42995 non-null  float64        \n",
      " 22  resprate_mean       42995 non-null  float64        \n",
      " 23  glucose_min         42779 non-null  float64        \n",
      " 24  glucose_max         42779 non-null  float64        \n",
      " 25  glucose_mean        42779 non-null  float64        \n",
      " 26  hr_min              43011 non-null  float64        \n",
      " 27  hr_max              43011 non-null  float64        \n",
      " 28  hr_mean             43011 non-null  float64        \n",
      " 29  sysbp_min           42997 non-null  float64        \n",
      " 30  sysbp_max           42997 non-null  float64        \n",
      " 31  sysbp_mean          42997 non-null  float64        \n",
      " 32  diasbp_min          42997 non-null  float64        \n",
      " 33  diasbp_max          42997 non-null  float64        \n",
      " 34  diasbp_mean         42997 non-null  float64        \n",
      " 35  temp_min            42904 non-null  float64        \n",
      " 36  temp_max            42904 non-null  float64        \n",
      " 37  temp_mean           42904 non-null  float64        \n",
      " 38  sapsii              43011 non-null  int64          \n",
      " 39  sofa_24hours        43011 non-null  int64          \n",
      " 40  urine_min           43011 non-null  float64        \n",
      " 41  urine_mean          43011 non-null  float64        \n",
      " 42  urine_max           43011 non-null  float64        \n",
      " 43  patientweight       42980 non-null  float64        \n",
      " 44  age_cat             43011 non-null  int64          \n",
      " 45  type_stay           43011 non-null  object         \n",
      " 46  prev_adm            43011 non-null  object         \n",
      " 47  dest_discharge      43011 non-null  object         \n",
      " 48  emergency_dpt       43011 non-null  object         \n",
      " 49  icd_chapter         43011 non-null  int64          \n",
      " 50  origin_patient      43011 non-null  object         \n",
      " 51  los                 43011 non-null  timedelta64[ns]\n",
      " 52  discharge_text      42947 non-null  object         \n",
      " 53  radiology_text      41656 non-null  object         \n",
      "dtypes: float64(32), int64(7), object(14), timedelta64[ns](1)\n",
      "memory usage: 17.7+ MB\n"
     ]
    }
   ],
   "source": [
    "df.info()"
   ]
  },
  {
   "cell_type": "code",
   "execution_count": 47,
   "metadata": {},
   "outputs": [
    {
     "name": "stderr",
     "output_type": "stream",
     "text": [
      "C:\\Users\\14297\\AppData\\Local\\Temp\\ipykernel_5872\\229233117.py:2: SettingWithCopyWarning: \n",
      "A value is trying to be set on a copy of a slice from a DataFrame.\n",
      "Try using .loc[row_indexer,col_indexer] = value instead\n",
      "\n",
      "See the caveats in the documentation: https://pandas.pydata.org/pandas-docs/stable/user_guide/indexing.html#returning-a-view-versus-a-copy\n",
      "  df['age_cat'] = df['age_cat'].replace({1:'< 18 years',2:'18-44 years',3:'45-64 years',4:'65-84 years',5:'85+ years'})\n"
     ]
    }
   ],
   "source": [
    "# Replace the age category column with the proper names\n",
    "df['age_cat'] = df['age_cat'].replace({1:'< 18 years',2:'18-44 years',3:'45-64 years',4:'65-84 years',5:'85+ years'})"
   ]
  },
  {
   "cell_type": "code",
   "execution_count": 48,
   "metadata": {},
   "outputs": [
    {
     "data": {
      "text/plain": [
       "65-84 years    18070\n",
       "45-64 years    15317\n",
       "18-44 years     5543\n",
       "85+ years       4081\n",
       "Name: age_cat, dtype: int64"
      ]
     },
     "execution_count": 48,
     "metadata": {},
     "output_type": "execute_result"
    }
   ],
   "source": [
    "# And check the Age Distribution\n",
    "df['age_cat'].value_counts()"
   ]
  },
  {
   "cell_type": "markdown",
   "metadata": {},
   "source": [
    "## ICD CODE"
   ]
  },
  {
   "cell_type": "code",
   "execution_count": 49,
   "metadata": {},
   "outputs": [],
   "source": [
    "icd = pd.read_csv(\"D:\\python\\data science mission\\icd.csv\") #The icd file"
   ]
  },
  {
   "cell_type": "code",
   "execution_count": 50,
   "metadata": {},
   "outputs": [
    {
     "data": {
      "text/html": [
       "<div>\n",
       "<style scoped>\n",
       "    .dataframe tbody tr th:only-of-type {\n",
       "        vertical-align: middle;\n",
       "    }\n",
       "\n",
       "    .dataframe tbody tr th {\n",
       "        vertical-align: top;\n",
       "    }\n",
       "\n",
       "    .dataframe thead th {\n",
       "        text-align: right;\n",
       "    }\n",
       "</style>\n",
       "<table border=\"1\" class=\"dataframe\">\n",
       "  <thead>\n",
       "    <tr style=\"text-align: right;\">\n",
       "      <th></th>\n",
       "      <th>Chapter</th>\n",
       "      <th>Code Range</th>\n",
       "      <th>Description</th>\n",
       "    </tr>\n",
       "  </thead>\n",
       "  <tbody>\n",
       "    <tr>\n",
       "      <th>0</th>\n",
       "      <td>1</td>\n",
       "      <td>001-139</td>\n",
       "      <td>Infectious and Parasitic Diseases</td>\n",
       "    </tr>\n",
       "    <tr>\n",
       "      <th>1</th>\n",
       "      <td>2</td>\n",
       "      <td>140-239</td>\n",
       "      <td>Neoplasms</td>\n",
       "    </tr>\n",
       "    <tr>\n",
       "      <th>2</th>\n",
       "      <td>3</td>\n",
       "      <td>240-279</td>\n",
       "      <td>Endocrine, Nutritional and Metabolic Diseases, and Immunity Disorders</td>\n",
       "    </tr>\n",
       "    <tr>\n",
       "      <th>3</th>\n",
       "      <td>4</td>\n",
       "      <td>280-289</td>\n",
       "      <td>Diseases of the Blood and Blood-forming Organs and Certain Disorders involving the Immune Mechanism</td>\n",
       "    </tr>\n",
       "    <tr>\n",
       "      <th>4</th>\n",
       "      <td>5</td>\n",
       "      <td>290-319</td>\n",
       "      <td>Mental Disorders</td>\n",
       "    </tr>\n",
       "  </tbody>\n",
       "</table>\n",
       "</div>"
      ],
      "text/plain": [
       "   Chapter Code Range  \\\n",
       "0        1    001-139   \n",
       "1        2    140-239   \n",
       "2        3    240-279   \n",
       "3        4    280-289   \n",
       "4        5    290-319   \n",
       "\n",
       "                                                                                           Description  \n",
       "0                                                                    Infectious and Parasitic Diseases  \n",
       "1                                                                                           Neoplasms   \n",
       "2                               Endocrine, Nutritional and Metabolic Diseases, and Immunity Disorders   \n",
       "3  Diseases of the Blood and Blood-forming Organs and Certain Disorders involving the Immune Mechanism  \n",
       "4                                                                                    Mental Disorders   "
      ]
     },
     "execution_count": 50,
     "metadata": {},
     "output_type": "execute_result"
    }
   ],
   "source": [
    "icd.head()"
   ]
  },
  {
   "cell_type": "code",
   "execution_count": 51,
   "metadata": {},
   "outputs": [
    {
     "name": "stdout",
     "output_type": "stream",
     "text": [
      "<class 'pandas.core.frame.DataFrame'>\n",
      "RangeIndex: 42 entries, 0 to 41\n",
      "Data columns (total 3 columns):\n",
      " #   Column       Non-Null Count  Dtype \n",
      "---  ------       --------------  ----- \n",
      " 0   Chapter      42 non-null     int64 \n",
      " 1   Code Range   42 non-null     object\n",
      " 2   Description  42 non-null     object\n",
      "dtypes: int64(1), object(2)\n",
      "memory usage: 1.1+ KB\n"
     ]
    }
   ],
   "source": [
    "icd.info()"
   ]
  },
  {
   "cell_type": "code",
   "execution_count": 52,
   "metadata": {},
   "outputs": [],
   "source": [
    "# Generate a dictionary for all ICD codes\n",
    "icd_dict = {key:value for key,value in zip(icd['Chapter'],icd['Description'])}"
   ]
  },
  {
   "cell_type": "code",
   "execution_count": 53,
   "metadata": {},
   "outputs": [
    {
     "data": {
      "text/plain": [
       "{1: 'Infectious and Parasitic Diseases',\n",
       " 2: 'Neoplasms ',\n",
       " 3: 'Endocrine, Nutritional and Metabolic Diseases, and Immunity Disorders ',\n",
       " 4: 'Diseases of the Blood and Blood-forming Organs and Certain Disorders involving the Immune Mechanism',\n",
       " 5: 'Mental Disorders ',\n",
       " 6: 'Diseases of the Nervous System ',\n",
       " 7: 'Diseases of the Sense Organs',\n",
       " 8: 'Diseases of the Circulatory System ',\n",
       " 9: 'Diseases of the Respiratory System ',\n",
       " 10: 'Diseases of the Digestive System ',\n",
       " 11: 'Diseases of the Genitourinary System ',\n",
       " 12: 'Complications of Pregnancy, Childbirth, and the Puerperium ',\n",
       " 13: 'Diseases of the Skin and Subcutaneous Tissue ',\n",
       " 14: 'Diseases of the Musculoskeletal System and Connective Tissue ',\n",
       " 15: 'Congenital Anomalies ',\n",
       " 16: 'Certain Conditions originating in the Perinatal Period ',\n",
       " 17: 'Symptoms, Signs, and Ill-defined Conditions ',\n",
       " 18: 'Injury and Poisoning ',\n",
       " 19: 'Supp Factors Health Status ',\n",
       " 20: 'Supp External Causes Injury Poisoning ',\n",
       " 21: 'Certain Infectious and Parasitic Diseases ',\n",
       " 22: 'Neoplasms ',\n",
       " 23: 'Diseases of the Blood and Blood-forming Organs and Certain Disorders involving the Immune Mechanism',\n",
       " 24: 'Endocrine, Nutritional and Metabolic Diseases ',\n",
       " 25: 'Mental and Behavioural Disorders ',\n",
       " 26: 'Diseases of the Nervous System ',\n",
       " 27: 'Diseases of the Eye and Adnexa ',\n",
       " 28: 'Diseases of the Ear and Mastoid Process ',\n",
       " 29: 'Diseases of the Circulatory System ',\n",
       " 30: 'Diseases of the Respiratory System ',\n",
       " 31: 'Diseases of the Digestive System ',\n",
       " 32: 'Diseases of the Skin and Subcutaneous Tissue ',\n",
       " 33: 'Diseases of the Musculoskeletal System and Connective Tissue ',\n",
       " 34: 'Diseases of the Genitourinary System ',\n",
       " 35: 'Pregnancy, Childbirth and the Puerperium ',\n",
       " 36: 'Certain Conditions originating in the Perinatal Period ',\n",
       " 37: 'Congenital Malformations, Deformations and Chromosomal Abnormalities ',\n",
       " 38: 'Symptoms, Signs and Abnormal Clinical and Laboratory Findings, Not Elsewhere Classified ',\n",
       " 39: 'Injury, Poisoning and Certain Other Consequences of External Causes ',\n",
       " 40: 'External Causes of Morbidity and Mortality ',\n",
       " 41: 'Factors influencing Health Status and Contact with Health Services ',\n",
       " 42: 'Codes for special purpose '}"
      ]
     },
     "execution_count": 53,
     "metadata": {},
     "output_type": "execute_result"
    }
   ],
   "source": [
    "icd_dict"
   ]
  },
  {
   "cell_type": "code",
   "execution_count": 54,
   "metadata": {},
   "outputs": [
    {
     "name": "stderr",
     "output_type": "stream",
     "text": [
      "C:\\Users\\14297\\AppData\\Local\\Temp\\ipykernel_5872\\1643798689.py:2: SettingWithCopyWarning: \n",
      "A value is trying to be set on a copy of a slice from a DataFrame.\n",
      "Try using .loc[row_indexer,col_indexer] = value instead\n",
      "\n",
      "See the caveats in the documentation: https://pandas.pydata.org/pandas-docs/stable/user_guide/indexing.html#returning-a-view-versus-a-copy\n",
      "  df['icd_chapter'] = df['icd_chapter'].replace(icd_dict)\n"
     ]
    }
   ],
   "source": [
    "# Replace each ICD chapter with its proper description\n",
    "df['icd_chapter'] = df['icd_chapter'].replace(icd_dict)"
   ]
  },
  {
   "cell_type": "code",
   "execution_count": 55,
   "metadata": {},
   "outputs": [],
   "source": [
    "# Finally save the file to a CSV\n",
    "path_to_processed = \"processed_data\"\n",
    "df.to_csv(f'{path_to_processed}/df_mixed_discharge.csv.gzip', compression = 'gzip', index = False)\n",
    "df.to_csv(f'{path_to_processed}/df_mixed_discharge.csv', index = False)"
   ]
  }
 ],
 "metadata": {
  "kernelspec": {
   "display_name": "base",
   "language": "python",
   "name": "python3"
  },
  "language_info": {
   "codemirror_mode": {
    "name": "ipython",
    "version": 3
   },
   "file_extension": ".py",
   "mimetype": "text/x-python",
   "name": "python",
   "nbconvert_exporter": "python",
   "pygments_lexer": "ipython3",
   "version": "3.11.7"
  }
 },
 "nbformat": 4,
 "nbformat_minor": 2
}
